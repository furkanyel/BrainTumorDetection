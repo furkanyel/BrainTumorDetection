{
  "nbformat": 4,
  "nbformat_minor": 0,
  "metadata": {
    "colab": {
      "provenance": []
    },
    "kernelspec": {
      "name": "python3",
      "display_name": "Python 3"
    },
    "language_info": {
      "name": "python"
    }
  },
  "cells": [
    {
      "cell_type": "code",
      "execution_count": null,
      "metadata": {
        "id": "YaowVuSpDN_j"
      },
      "outputs": [],
      "source": [
        "import kagglehub\n",
        "import os\n",
        "import tensorflow as tf\n",
        "import numpy as np\n",
        "import matplotlib.pyplot as plt\n",
        "from tensorflow.keras.applications import VGG16\n",
        "from tensorflow.keras.models import Model\n",
        "from tensorflow.keras.layers import Dense, Flatten, Dropout\n",
        "from tensorflow.keras.optimizers import Adam\n",
        "from tensorflow.keras.applications.vgg16 import preprocess_input\n",
        "from tensorflow.keras.preprocessing.image import ImageDataGenerator\n",
        "\n",
        "# Kaggle'daki veri setine erişim\n",
        "path = kagglehub.dataset_download(\"masoudnickparvar/brain-tumor-mri-dataset\")\n",
        "print(\"Path to dataset files:\", path)\n",
        "\n",
        "\n",
        "test_yolu = os.path.join(path, \"Training\")\n",
        "dogrulama_yolu = os.path.join(path, \"Testing\")\n",
        "\n",
        "test_vgg = ImageDataGenerator(\n",
        "    preprocessing_function=preprocess_input,\n",
        "    rotation_range=10,\n",
        "    zoom_range=0.1,\n",
        "    width_shift_range=0.1,\n",
        "    height_shift_range=0.1,\n",
        "    horizontal_flip=True\n",
        ")\n",
        "\n",
        "dogrulama_vgg = ImageDataGenerator(preprocessing_function=preprocess_input)\n",
        "\n",
        "train_gen = test_vgg.flow_from_directory(\n",
        "    test_yolu,\n",
        "    target_size=(224, 224),\n",
        "    batch_size=32,\n",
        "    class_mode='categorical'\n",
        ")\n",
        "\n",
        "dogrulama_gen = dogrulama_vgg.flow_from_directory(\n",
        "    dogrulama_yolu,\n",
        "    target_size=(224, 224),\n",
        "    batch_size=32,\n",
        "    class_mode='categorical'\n",
        ")\n",
        "\n",
        "vgg_model = VGG16(weights='imagenet', include_top=False, input_shape=(224, 224, 3))\n",
        "\n",
        "\n",
        "for layer in vgg_model.layers:\n",
        "    layer.trainable = False\n",
        "\n",
        "# Yeni katmanları ekleme\n",
        "x = vgg_model.output\n",
        "x = Flatten()(x)\n",
        "x = Dense(128, activation='relu')(x)\n",
        "x = Dropout(0.5)(x)\n",
        "predictions = Dense(4, activation='softmax')(x)\n",
        "\n",
        "model_vgg16 = Model(inputs=vgg_model.input, outputs=predictions)\n",
        "\n",
        "model_vgg16.compile(optimizer=Adam(learning_rate=0.0001),\n",
        "                    loss='categorical_crossentropy',\n",
        "                    metrics=['accuracy'])\n",
        "\n",
        "model_vgg16.summary()\n",
        "\n",
        "history_vgg = model_vgg16.fit(\n",
        "    train_gen,\n",
        "    epochs=10,\n",
        "    validation_data=dogrulama_gen\n",
        ")"
      ]
    }
  ]
}